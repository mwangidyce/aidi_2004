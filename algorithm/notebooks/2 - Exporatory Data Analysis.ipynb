{
 "cells": [
  {
   "cell_type": "markdown",
   "id": "83648438-e1e7-47ff-8e43-0aee9df7d2ca",
   "metadata": {},
   "source": [
    "# 2: Exploratory Data Analysis\n",
    "In this notebook, we will carry out exploratory data analysis (EDA) of the dataset collected.\n",
    "_**Note**: some of the EDA is carried out by manually going through the images._\n",
    "\n",
    ">**Project Title** <br>2D Shapes Image Classification of Common and Uncommon Objects</br>\n",
    "**Course** <br>AIDI-2001-02 AI in Enterprise</br>\n",
    "**Group** <br>Seven (`7`)</br>\n",
    "**Notebook number** <br>Two (`2`)</br>"
   ]
  },
  {
   "cell_type": "code",
   "execution_count": 2,
   "id": "62cb7193-d943-4735-9313-eda2dff815b4",
   "metadata": {},
   "outputs": [],
   "source": [
    "# Exploratory Data Analysis\n",
    "import json\n",
    "import pandas as pd\n",
    "import matplotlib.pyplot as plt\n",
    "import matplotlib\n",
    "import numpy as np\n",
    "import pdb\n",
    "import os\n",
    "\n",
    "font = {'family' : 'Arial',\n",
    "        'weight' : 'normal',\n",
    "        'size'   : 12}\n",
    "\n",
    "matplotlib.rc('font', **font)\n",
    "\n",
    "from IPython.display import display, Image"
   ]
  },
  {
   "cell_type": "code",
   "execution_count": 3,
   "id": "9b3a69bb-08f6-464e-a4e0-c38cb737feb0",
   "metadata": {},
   "outputs": [],
   "source": [
    "# Define the classes\n",
    "shapes = ['circle', 'triangle', 'square', 'rectangle', 'pentagon', 'hexagon']"
   ]
  },
  {
   "cell_type": "code",
   "execution_count": 4,
   "id": "b4ff5198-9321-4e28-a5fc-61104e4653d2",
   "metadata": {},
   "outputs": [],
   "source": [
    "shape_files = {\n",
    "    shape: [f for f in os.listdir(f'../data/images/train/{shape}') if os.path.isfile(os.path.join(f'../data/images/train/{shape}', f))] for shape in shapes\n",
    "}"
   ]
  },
  {
   "cell_type": "code",
   "execution_count": 6,
   "id": "348e681a-8adc-4aa2-84d9-00ae37bf3ece",
   "metadata": {},
   "outputs": [
    {
     "name": "stdout",
     "output_type": "stream",
     "text": [
      "circle: \t233 images\n",
      "triangle: \t360 images\n",
      "square: \t497 images\n",
      "rectangle: \t255 images\n",
      "pentagon: \t321 images\n",
      "hexagon: \t233 images\n"
     ]
    }
   ],
   "source": [
    "# training images for each class\n",
    "for shape, files in shape_files.items():\n",
    "    print(f\"{shape}: \\t{len(files)} images\")"
   ]
  },
  {
   "cell_type": "code",
   "execution_count": 23,
   "id": "9dfeb460-d130-467f-a62c-18f7335cb1b0",
   "metadata": {},
   "outputs": [
    {
     "data": {
      "text/plain": [
       "{'circle': 233,\n",
       " 'triangle': 360,\n",
       " 'square': 497,\n",
       " 'rectangle': 255,\n",
       " 'pentagon': 321,\n",
       " 'hexagon': 233}"
      ]
     },
     "execution_count": 23,
     "metadata": {},
     "output_type": "execute_result"
    }
   ],
   "source": [
    "shapes_images = {shape: len(files) for shape, files in shape_files.items()}\n",
    "shapes_images"
   ]
  },
  {
   "cell_type": "code",
   "execution_count": 36,
   "id": "8b9eef0c-038b-4c4b-a61b-57d1753be3c1",
   "metadata": {},
   "outputs": [
    {
     "data": {
      "text/plain": [
       "1899"
      ]
     },
     "execution_count": 36,
     "metadata": {},
     "output_type": "execute_result"
    }
   ],
   "source": [
    "# Total number of images in the dataset\n",
    "sum(shapes_images.values())"
   ]
  },
  {
   "cell_type": "code",
   "execution_count": 24,
   "id": "fd949603-85ca-4e1c-bf7b-3b3b2264a73d",
   "metadata": {},
   "outputs": [
    {
     "data": {
      "text/plain": [
       "[233, 360, 497, 255, 321, 233]"
      ]
     },
     "execution_count": 24,
     "metadata": {},
     "output_type": "execute_result"
    }
   ],
   "source": [
    "list(shapes_images.values())"
   ]
  },
  {
   "cell_type": "code",
   "execution_count": 34,
   "id": "cd8155b9-77d3-4f0e-98bb-3acea03dbc18",
   "metadata": {},
   "outputs": [
    {
     "data": {
      "image/png": "[encoded data removed]",
      "text/plain": [
       "<Figure size 504x504 with 1 Axes>"
      ]
     },
     "metadata": {
      "needs_background": "light"
     },
     "output_type": "display_data"
    }
   ],
   "source": [
    "# Visualize the training data\n",
    "fig, ax = plt.subplots(figsize=(7,7))\n",
    "\n",
    "ax.bar(x=list(shapes_images.keys()), height=list(shapes_images.values()));\n",
    "\n",
    "plt.xlabel('Shape', fontdict={'size': 14, 'weight': 'bold'});\n",
    "plt.ylabel('Number of images', fontdict={'size': 14, 'weight': 'bold'});\n",
    "plt.title('Training Images per Class', fontdict={'size': 16, 'weight': 'bold'});"
   ]
  },
  {
   "cell_type": "markdown",
   "id": "b178256e-da0d-49c2-8547-c869fd2ecadf",
   "metadata": {},
   "source": [
    "# Manual Check Points\n",
    "* There are many duplicates in the dataset.\n",
    "* Some images provide too much information to the model - multiple objects in the same image."
   ]
  },
  {
   "cell_type": "code",
   "execution_count": null,
   "id": "50773413-3901-4ba7-a59f-04669db371b6",
   "metadata": {},
   "outputs": [],
   "source": []
  }
 ],
 "metadata": {
  "kernelspec": {
   "display_name": "dsenv",
   "language": "python",
   "name": "dsenv"
  },
  "language_info": {
   "codemirror_mode": {
    "name": "ipython",
    "version": 3
   },
   "file_extension": ".py",
   "mimetype": "text/x-python",
   "name": "python",
   "nbconvert_exporter": "python",
   "pygments_lexer": "ipython3",
   "version": "3.9.10"
  }
 },
 "nbformat": 4,
 "nbformat_minor": 5
}
