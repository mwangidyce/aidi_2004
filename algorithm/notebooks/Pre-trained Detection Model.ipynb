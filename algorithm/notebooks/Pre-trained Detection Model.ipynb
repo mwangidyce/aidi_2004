{
 "cells": [
  {
   "cell_type": "markdown",
   "id": "914638c4-c5b9-43e0-bae4-18ce59188a26",
   "metadata": {},
   "source": [
    "# Model Preparation\n",
    "In this notebook, we will determine the best pre-trained model (on COCO dataset) for our use-case, conduct a few-shot eager learning and save the model to be used by the webapp.\n",
    "\n",
    "> **Goal**: Determine the best pre-trained object detection model to detect objects and their shapes.\n",
    "\n",
    "## Data Flow\n",
    "1. An image will be recieved from the deployed webpage.\n",
    "2. Image will be pre-processed and converted into a numpy array and to a tensor.\n",
    "3. Model will make the prediction based on the image provided.\n",
    "4. Post-processing will convert the model's prediction into statistics that will be displayed to the user.\n",
    "\n",
    "Notes: The model will predict the object and create a bounding box around around each object in the image. In post-processing, the shape of each object class is pre-defined. The webpage will be returned the processed image (with bounding boxes), list of objects in the image, along with their shapes.\n",
    "\n",
    "\n",
    "# 1. Determine the Ideal Model\n",
    "In this section, we will use the [TensorFlow 2 Detection Model Zoo](https://github.com/tensorflow/models/blob/master/research/object_detection/g3doc/tf2_detection_zoo.md) table and metrics to determine the ideal model for the use-case. As our goal is to deploy the model on a webpage, we would want to ensure the right balance between speed and accuracy (mAP)."
   ]
  },
  {
   "cell_type": "code",
   "execution_count": 2,
   "id": "a42ce673-11d2-4235-bc27-b4e6baf4d34b",
   "metadata": {},
   "outputs": [],
   "source": [
    "# import modules\n",
    "import pandas as pd\n",
    "import tensorflow as tf\n",
    "import pathlib"
   ]
  },
  {
   "cell_type": "code",
   "execution_count": 4,
   "id": "72c5ae25-93c6-4041-b0eb-224a9544addd",
   "metadata": {},
   "outputs": [
    {
     "data": {
      "text/html": [
       "<div>\n",
       "<style scoped>\n",
       "    .dataframe tbody tr th:only-of-type {\n",
       "        vertical-align: middle;\n",
       "    }\n",
       "\n",
       "    .dataframe tbody tr th {\n",
       "        vertical-align: top;\n",
       "    }\n",
       "\n",
       "    .dataframe thead th {\n",
       "        text-align: right;\n",
       "    }\n",
       "</style>\n",
       "<table border=\"1\" class=\"dataframe\">\n",
       "  <thead>\n",
       "    <tr style=\"text-align: right;\">\n",
       "      <th></th>\n",
       "      <th>Model name</th>\n",
       "      <th>Speed (ms)</th>\n",
       "      <th>COCO mAP</th>\n",
       "      <th>Outputs</th>\n",
       "    </tr>\n",
       "  </thead>\n",
       "  <tbody>\n",
       "    <tr>\n",
       "      <th>0</th>\n",
       "      <td>CenterNet HourGlass104 512x512</td>\n",
       "      <td>70</td>\n",
       "      <td>41.9</td>\n",
       "      <td>Boxes</td>\n",
       "    </tr>\n",
       "    <tr>\n",
       "      <th>1</th>\n",
       "      <td>CenterNet HourGlass104 Keypoints 512x512</td>\n",
       "      <td>76</td>\n",
       "      <td>50.7</td>\n",
       "      <td>Boxes/Keypoints</td>\n",
       "    </tr>\n",
       "    <tr>\n",
       "      <th>2</th>\n",
       "      <td>CenterNet HourGlass104 1024x1024</td>\n",
       "      <td>197</td>\n",
       "      <td>44.5</td>\n",
       "      <td>Boxes</td>\n",
       "    </tr>\n",
       "    <tr>\n",
       "      <th>3</th>\n",
       "      <td>CenterNet HourGlass104 Keypoints 1024x1024</td>\n",
       "      <td>211</td>\n",
       "      <td>53.6</td>\n",
       "      <td>Boxes/Keypoints</td>\n",
       "    </tr>\n",
       "    <tr>\n",
       "      <th>4</th>\n",
       "      <td>CenterNet Resnet50 V1 FPN 512x512</td>\n",
       "      <td>27</td>\n",
       "      <td>31.2</td>\n",
       "      <td>Boxes</td>\n",
       "    </tr>\n",
       "  </tbody>\n",
       "</table>\n",
       "</div>"
      ],
      "text/plain": [
       "                                   Model name  Speed (ms)  COCO mAP  \\\n",
       "0              CenterNet HourGlass104 512x512          70      41.9   \n",
       "1    CenterNet HourGlass104 Keypoints 512x512          76      50.7   \n",
       "2            CenterNet HourGlass104 1024x1024         197      44.5   \n",
       "3  CenterNet HourGlass104 Keypoints 1024x1024         211      53.6   \n",
       "4           CenterNet Resnet50 V1 FPN 512x512          27      31.2   \n",
       "\n",
       "           Outputs  \n",
       "0            Boxes  \n",
       "1  Boxes/Keypoints  \n",
       "2            Boxes  \n",
       "3  Boxes/Keypoints  \n",
       "4            Boxes  "
      ]
     },
     "execution_count": 4,
     "metadata": {},
     "output_type": "execute_result"
    }
   ],
   "source": [
    "# Load data about pretrained model\n",
    "df = pd.read_csv('TF2-detection-model-zoo-meta.csv')\n",
    "df.head()"
   ]
  },
  {
   "cell_type": "markdown",
   "id": "59082055-5c80-49e6-a134-343f9fe542bb",
   "metadata": {},
   "source": [
    "We want the model with the highest accuracy and lowest inference time (fastest speed). Therefore, we can create a new variables that takes the ratio of the two metrics - `COCO mAP / Speed (ms)`. Maximizing this ratio will give us the models that will work best for the use-case. \n",
    "Additionally, mimimum and maximum values for speed and accruacy are defined as below:\n",
    "- min mAP: 35.0\n",
    "- max Speed: 50ms\n",
    "\n",
    "Note: Many assumptions are in the above model selection process. One of them being the model size - this is usaully given in terms of `training parameters`. As these models are already trained, the size of the models is not taken into consideration. However, many other factors that could impact the decision of selecting the perfect model are assumed to have negligible impact. "
   ]
  },
  {
   "cell_type": "code",
   "execution_count": 5,
   "id": "f893ed31-73ef-4062-bedb-ce22c08e2331",
   "metadata": {},
   "outputs": [
    {
     "data": {
      "text/html": [
       "<div>\n",
       "<style scoped>\n",
       "    .dataframe tbody tr th:only-of-type {\n",
       "        vertical-align: middle;\n",
       "    }\n",
       "\n",
       "    .dataframe tbody tr th {\n",
       "        vertical-align: top;\n",
       "    }\n",
       "\n",
       "    .dataframe thead th {\n",
       "        text-align: right;\n",
       "    }\n",
       "</style>\n",
       "<table border=\"1\" class=\"dataframe\">\n",
       "  <thead>\n",
       "    <tr style=\"text-align: right;\">\n",
       "      <th></th>\n",
       "      <th>Model name</th>\n",
       "      <th>Speed (ms)</th>\n",
       "      <th>COCO mAP</th>\n",
       "      <th>Outputs</th>\n",
       "      <th>mAP/Speed Ratio</th>\n",
       "    </tr>\n",
       "  </thead>\n",
       "  <tbody>\n",
       "    <tr>\n",
       "      <th>10</th>\n",
       "      <td>CenterNet MobileNetV2 FPN Keypoints 512x512</td>\n",
       "      <td>6</td>\n",
       "      <td>41.7</td>\n",
       "      <td>Keypoints</td>\n",
       "      <td>6.950000</td>\n",
       "    </tr>\n",
       "    <tr>\n",
       "      <th>9</th>\n",
       "      <td>CenterNet MobileNetV2 FPN 512x512</td>\n",
       "      <td>6</td>\n",
       "      <td>23.4</td>\n",
       "      <td>Boxes</td>\n",
       "      <td>3.900000</td>\n",
       "    </tr>\n",
       "    <tr>\n",
       "      <th>5</th>\n",
       "      <td>CenterNet Resnet50 V1 FPN Keypoints 512x512</td>\n",
       "      <td>30</td>\n",
       "      <td>40.0</td>\n",
       "      <td>Boxes/Keypoints</td>\n",
       "      <td>1.333333</td>\n",
       "    </tr>\n",
       "    <tr>\n",
       "      <th>8</th>\n",
       "      <td>CenterNet Resnet50 V2 Keypoints 512x512</td>\n",
       "      <td>30</td>\n",
       "      <td>37.9</td>\n",
       "      <td>Boxes/Keypoints</td>\n",
       "      <td>1.263333</td>\n",
       "    </tr>\n",
       "    <tr>\n",
       "      <th>4</th>\n",
       "      <td>CenterNet Resnet50 V1 FPN 512x512</td>\n",
       "      <td>27</td>\n",
       "      <td>31.2</td>\n",
       "      <td>Boxes</td>\n",
       "      <td>1.155556</td>\n",
       "    </tr>\n",
       "    <tr>\n",
       "      <th>7</th>\n",
       "      <td>CenterNet Resnet50 V2 512x512</td>\n",
       "      <td>27</td>\n",
       "      <td>29.5</td>\n",
       "      <td>Boxes</td>\n",
       "      <td>1.092593</td>\n",
       "    </tr>\n",
       "    <tr>\n",
       "      <th>19</th>\n",
       "      <td>SSD MobileNet v2 320x320</td>\n",
       "      <td>19</td>\n",
       "      <td>20.2</td>\n",
       "      <td>Boxes</td>\n",
       "      <td>1.063158</td>\n",
       "    </tr>\n",
       "    <tr>\n",
       "      <th>21</th>\n",
       "      <td>SSD MobileNet V2 FPNLite 320x320</td>\n",
       "      <td>22</td>\n",
       "      <td>22.2</td>\n",
       "      <td>Boxes</td>\n",
       "      <td>1.009091</td>\n",
       "    </tr>\n",
       "    <tr>\n",
       "      <th>6</th>\n",
       "      <td>CenterNet Resnet101 V1 FPN 512x512</td>\n",
       "      <td>34</td>\n",
       "      <td>34.2</td>\n",
       "      <td>Boxes</td>\n",
       "      <td>1.005882</td>\n",
       "    </tr>\n",
       "    <tr>\n",
       "      <th>11</th>\n",
       "      <td>EfficientDet D0 512x512</td>\n",
       "      <td>39</td>\n",
       "      <td>33.6</td>\n",
       "      <td>Boxes</td>\n",
       "      <td>0.861538</td>\n",
       "    </tr>\n",
       "  </tbody>\n",
       "</table>\n",
       "</div>"
      ],
      "text/plain": [
       "                                     Model name  Speed (ms)  COCO mAP  \\\n",
       "10  CenterNet MobileNetV2 FPN Keypoints 512x512           6      41.7   \n",
       "9             CenterNet MobileNetV2 FPN 512x512           6      23.4   \n",
       "5   CenterNet Resnet50 V1 FPN Keypoints 512x512          30      40.0   \n",
       "8       CenterNet Resnet50 V2 Keypoints 512x512          30      37.9   \n",
       "4             CenterNet Resnet50 V1 FPN 512x512          27      31.2   \n",
       "7                 CenterNet Resnet50 V2 512x512          27      29.5   \n",
       "19                     SSD MobileNet v2 320x320          19      20.2   \n",
       "21             SSD MobileNet V2 FPNLite 320x320          22      22.2   \n",
       "6            CenterNet Resnet101 V1 FPN 512x512          34      34.2   \n",
       "11                      EfficientDet D0 512x512          39      33.6   \n",
       "\n",
       "            Outputs  mAP/Speed Ratio  \n",
       "10        Keypoints         6.950000  \n",
       "9             Boxes         3.900000  \n",
       "5   Boxes/Keypoints         1.333333  \n",
       "8   Boxes/Keypoints         1.263333  \n",
       "4             Boxes         1.155556  \n",
       "7             Boxes         1.092593  \n",
       "19            Boxes         1.063158  \n",
       "21            Boxes         1.009091  \n",
       "6             Boxes         1.005882  \n",
       "11            Boxes         0.861538  "
      ]
     },
     "execution_count": 5,
     "metadata": {},
     "output_type": "execute_result"
    }
   ],
   "source": [
    "df['mAP/Speed Ratio'] = df['COCO mAP'] / df['Speed (ms)']\n",
    "df.sort_values(by='mAP/Speed Ratio', ascending=False).head(10)"
   ]
  },
  {
   "cell_type": "markdown",
   "id": "ea1e9014-3c85-4a39-8efd-5e75d6caa2af",
   "metadata": {},
   "source": [
    "Consideirng the ratio and limits of accuracy and speed, the best pre-trained model to be used for the use-case is **`CenterNet Resnet50 V1 FPN 512x512`**"
   ]
  },
  {
   "cell_type": "markdown",
   "id": "b595eba2-ae3f-466e-a3c7-5e3bc12972e5",
   "metadata": {},
   "source": [
    "# 2. Loading Pre-trained Model\n",
    "In this section, we will be loading the model and testing it's performance on random images."
   ]
  },
  {
   "cell_type": "code",
   "execution_count": 7,
   "id": "04b54caf-e8df-4e2d-862c-67f8b98fbd6d",
   "metadata": {},
   "outputs": [
    {
     "ename": "ModuleNotFoundError",
     "evalue": "No module named 'object_detection'",
     "output_type": "error",
     "traceback": [
      "\u001b[0;31m---------------------------------------------------------------------------\u001b[0m",
      "\u001b[0;31mModuleNotFoundError\u001b[0m                       Traceback (most recent call last)",
      "Input \u001b[0;32mIn [7]\u001b[0m, in \u001b[0;36m<cell line: 13>\u001b[0;34m()\u001b[0m\n\u001b[1;32m      9\u001b[0m \u001b[38;5;28;01mfrom\u001b[39;00m \u001b[38;5;21;01mPIL\u001b[39;00m \u001b[38;5;28;01mimport\u001b[39;00m Image, ImageDraw, ImageFont\n\u001b[1;32m     11\u001b[0m \u001b[38;5;28;01mimport\u001b[39;00m \u001b[38;5;21;01mtensorflow\u001b[39;00m \u001b[38;5;28;01mas\u001b[39;00m \u001b[38;5;21;01mtf\u001b[39;00m\n\u001b[0;32m---> 13\u001b[0m \u001b[38;5;28;01mfrom\u001b[39;00m \u001b[38;5;21;01mobject_detection\u001b[39;00m\u001b[38;5;21;01m.\u001b[39;00m\u001b[38;5;21;01mutils\u001b[39;00m \u001b[38;5;28;01mimport\u001b[39;00m label_map_util\n\u001b[1;32m     14\u001b[0m \u001b[38;5;28;01mfrom\u001b[39;00m \u001b[38;5;21;01mobject_detection\u001b[39;00m\u001b[38;5;21;01m.\u001b[39;00m\u001b[38;5;21;01mutils\u001b[39;00m \u001b[38;5;28;01mimport\u001b[39;00m config_util\n\u001b[1;32m     15\u001b[0m \u001b[38;5;28;01mfrom\u001b[39;00m \u001b[38;5;21;01mobject_detection\u001b[39;00m\u001b[38;5;21;01m.\u001b[39;00m\u001b[38;5;21;01mutils\u001b[39;00m \u001b[38;5;28;01mimport\u001b[39;00m visualization_utils \u001b[38;5;28;01mas\u001b[39;00m viz_utils\n",
      "\u001b[0;31mModuleNotFoundError\u001b[0m: No module named 'object_detection'"
     ]
    }
   ],
   "source": [
    "# import modules\n",
    "import matplotlib\n",
    "import matplotlib.pyplot as plt\n",
    "\n",
    "import io\n",
    "import scipy.misc\n",
    "import numpy as np\n",
    "from six import BytesIO\n",
    "from PIL import Image, ImageDraw, ImageFont\n",
    "\n",
    "import tensorflow as tf\n",
    "\n",
    "from object_detection.utils import label_map_util\n",
    "from object_detection.utils import config_util\n",
    "from object_detection.utils import visualization_utils as viz_utils\n",
    "from object_detection.builders import model_builder\n",
    "\n",
    "%matplotlib inline"
   ]
  },
  {
   "cell_type": "code",
   "execution_count": 6,
   "id": "5682e75b-3a92-4788-b46e-5411a163e81b",
   "metadata": {},
   "outputs": [
    {
     "name": "stdout",
     "output_type": "stream",
     "text": [
      "Metal device set to: Apple M1\n"
     ]
    },
    {
     "name": "stderr",
     "output_type": "stream",
     "text": [
      "2022-04-13 19:05:16.152598: I tensorflow/core/common_runtime/pluggable_device/pluggable_device_factory.cc:305] Could not identify NUMA node of platform GPU ID 0, defaulting to 0. Your kernel may not have been built with NUMA support.\n",
      "2022-04-13 19:05:16.152898: I tensorflow/core/common_runtime/pluggable_device/pluggable_device_factory.cc:271] Created TensorFlow device (/job:localhost/replica:0/task:0/device:GPU:0 with 0 MB memory) -> physical PluggableDevice (device: 0, name: METAL, pci bus id: <undefined>)\n"
     ]
    },
    {
     "data": {
      "text/plain": [
       "<tensorflow.python.saved_model.load.Loader._recreate_base_user_object.<locals>._UserObject at 0x2f1fe3be0>"
      ]
     },
     "execution_count": 6,
     "metadata": {},
     "output_type": "execute_result"
    }
   ],
   "source": [
    "# path to the downloaded pre-trained model.\n",
    "path = pathlib.Path(\"../models/centernet_resnet101_v1_fpn_512x512_coco17_tpu-8/saved_model\")\n",
    "model = None\n",
    "\n",
    "if path.exists():\n",
    "    model = tf.saved_model.load(str(path))\n",
    "    \n",
    "model"
   ]
  },
  {
   "cell_type": "code",
   "execution_count": null,
   "id": "4f85057e-c551-4098-924a-8976cf414a4c",
   "metadata": {},
   "outputs": [],
   "source": []
  }
 ],
 "metadata": {
  "kernelspec": {
   "display_name": "dsenv",
   "language": "python",
   "name": "dsenv"
  },
  "language_info": {
   "codemirror_mode": {
    "name": "ipython",
    "version": 3
   },
   "file_extension": ".py",
   "mimetype": "text/x-python",
   "name": "python",
   "nbconvert_exporter": "python",
   "pygments_lexer": "ipython3",
   "version": "3.9.10"
  }
 },
 "nbformat": 4,
 "nbformat_minor": 5
}
