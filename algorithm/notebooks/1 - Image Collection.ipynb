{
 "cells": [
  {
   "cell_type": "markdown",
   "id": "2d7f0d1b-8181-4ad1-b5bd-6a49a3b9cbab",
   "metadata": {},
   "source": [
    "# 1: Image Collection\n",
    "In this notebook, we will create the dataset that will be used for training and evaluation of the model.\n",
    "\n",
    ">**Project Title** <br>2D Shapes Image Classification of Common and Uncommon Objects</br>\n",
    "**Course** <br>AIDI-2001-02 AI in Enterprise</br>\n",
    "**Group** <br>Seven (`7`)</br>\n",
    "**Notebook number** <br>One (`1`)</br>\n",
    "\n",
    "\n",
    "We will use this notebook to create the training image dataset to detect shapes of common and uncommon objects. The following classes of shapes are being considered:\n",
    "1. `Circle`\n",
    "2. `Triangle`\n",
    "3. `Square`\n",
    "4. `Rectangle`\n",
    "5. `Pentagon`\n",
    "6. `Hexagon`\n",
    "\n",
    "For each of these shapes, about 200 random images will be collected with **Google's Image Search**. I will be following _[Adrian Rosebrock's](https://pyimagesearch.com/author/adrian/)_ tutorial on **[How to create a deep learning dataset using Google Images](https://pyimagesearch.com/2017/12/04/how-to-create-a-deep-learning-dataset-using-google-images/)**.\n",
    "\n",
    "# STEP 1. Get Image URLs using JavaScript\n",
    "This step is carried out by using the Google Chrome browser and the Javascript code provided in the Tutorial. Six (`6`) different `.txt` files are created - one for each class. Each of these URL files contains over 150 links to images for the respective class."
   ]
  },
  {
   "cell_type": "markdown",
   "id": "6d2f6fd2-9d6b-46f1-87e6-65d701e192af",
   "metadata": {},
   "source": [
    "The Javascript code mentioned below - gathered from the tutorial mentioned above - is used to get the `.txt` files containing the URLs.\n",
    "\n",
    "```js\n",
    "/**\n",
    " * simulate a right-click event so we can grab the image URL using the\n",
    " * context menu alleviating the need to navigate to another page\n",
    " *\n",
    " * attributed to @jmiserez: http://pyimg.co/9qe7y\n",
    " *\n",
    " * @param   {object}  element  DOM Element\n",
    " *\n",
    " * @return  {void}\n",
    " */\n",
    "function simulateRightClick( element ) {\n",
    "    var event1 = new MouseEvent( 'mousedown', {\n",
    "        bubbles: true,\n",
    "        cancelable: false,\n",
    "        view: window,\n",
    "        button: 2,\n",
    "        buttons: 2,\n",
    "        clientX: element.getBoundingClientRect().x,\n",
    "        clientY: element.getBoundingClientRect().y\n",
    "    } );\n",
    "    element.dispatchEvent( event1 );\n",
    "    var event2 = new MouseEvent( 'mouseup', {\n",
    "        bubbles: true,\n",
    "        cancelable: false,\n",
    "        view: window,\n",
    "        button: 2,\n",
    "        buttons: 0,\n",
    "        clientX: element.getBoundingClientRect().x,\n",
    "        clientY: element.getBoundingClientRect().y\n",
    "    } );\n",
    "    element.dispatchEvent( event2 );\n",
    "    var event3 = new MouseEvent( 'contextmenu', {\n",
    "        bubbles: true,\n",
    "        cancelable: false,\n",
    "        view: window,\n",
    "        button: 2,\n",
    "        buttons: 0,\n",
    "        clientX: element.getBoundingClientRect().x,\n",
    "        clientY: element.getBoundingClientRect().y\n",
    "    } );\n",
    "    element.dispatchEvent( event3 );\n",
    "}\n",
    "\n",
    "\n",
    "/**\n",
    " * grabs a URL Parameter from a query string because Google Images\n",
    " * stores the full image URL in a query parameter\n",
    " *\n",
    " * @param   {string}  queryString  The Query String\n",
    " * @param   {string}  key          The key to grab a value for\n",
    " *\n",
    " * @return  {string}               value\n",
    " */\n",
    "function getURLParam( queryString, key ) {\n",
    "    var vars = queryString.replace( /^\\?/, '' ).split( '&' );\n",
    "    for ( let i = 0; i < vars.length; i++ ) {\n",
    "        let pair = vars[ i ].split( '=' );\n",
    "        if ( pair[0] == key ) {\n",
    "            return pair[1];\n",
    "        }\n",
    "    }\n",
    "    return false;\n",
    "}\n",
    "\n",
    "\n",
    "\n",
    "/**\n",
    " * Generate and automatically download a txt file from the URL contents\n",
    " *\n",
    " * @param   {string}  contents  The contents to download\n",
    " *\n",
    " * @return  {void}\n",
    " */\n",
    "function createDownload( contents ) {\n",
    "    var hiddenElement = document.createElement( 'a' );\n",
    "    hiddenElement.href = 'data:attachment/text,' + encodeURI( contents );\n",
    "    hiddenElement.target = '_blank';\n",
    "    hiddenElement.download = 'urls.txt';\n",
    "    hiddenElement.click();\n",
    "}\n",
    "\n",
    "\n",
    "/**\n",
    " * grab all URLs va a Promise that resolves once all URLs have been\n",
    " * acquired\n",
    " *\n",
    " * @return  {object}  Promise object\n",
    " */\n",
    "function grabUrls() {\n",
    "    var urls = [];\n",
    "    return new Promise( function( resolve, reject ) {\n",
    "        var count = document.querySelectorAll(\n",
    "        \t'.isv-r a:first-of-type' ).length,\n",
    "            index = 0;\n",
    "        Array.prototype.forEach.call( document.querySelectorAll(\n",
    "        \t'.isv-r a:first-of-type' ), function( element ) {\n",
    "            // using the right click menu Google will generate the\n",
    "            // full-size URL; won't work in Internet Explorer\n",
    "            // (http://pyimg.co/byukr)\n",
    "            simulateRightClick( element.querySelector( ':scope img' ) );\n",
    "            // Wait for it to appear on the <a> element\n",
    "            var interval = setInterval( function() {\n",
    "                if ( element.href.trim() !== '' ) {\n",
    "                    clearInterval( interval );\n",
    "                    // extract the full-size version of the image\n",
    "                    let googleUrl = element.href.replace( /.*(\\?)/, '$1' ),\n",
    "                        fullImageUrl = decodeURIComponent(\n",
    "                        \tgetURLParam( googleUrl, 'imgurl' ) );\n",
    "                    if ( fullImageUrl !== 'false' ) {\n",
    "                        urls.push( fullImageUrl );\n",
    "                    }\n",
    "                    // sometimes the URL returns a \"false\" string and\n",
    "                    // we still want to count those so our Promise\n",
    "                    // resolves\n",
    "                    index++;\n",
    "                    if ( index == ( count - 1 ) ) {\n",
    "                        resolve( urls );\n",
    "                    }\n",
    "                }\n",
    "            }, 10 );\n",
    "        } );\n",
    "    } );\n",
    "}\n",
    "\n",
    "```\n",
    "> Finally, the below code combines all the above functions.\n",
    "\n",
    "```js\n",
    "/**\n",
    " * Call the main function to grab the URLs and initiate the download\n",
    " */\n",
    "grabUrls().then( function( urls ) {\n",
    "    urls = urls.join( '\\n' );\n",
    "    createDownload( urls );\n",
    "} );\n",
    "\n",
    "```"
   ]
  },
  {
   "cell_type": "markdown",
   "id": "eaee79ef-8650-4fde-bcc4-0127e9eb8852",
   "metadata": {},
   "source": [
    "# STEP 2. Downloading the Images using the URLs\n",
    "In this step, we will use python's request module to access and download the images from the list of URLs."
   ]
  },
  {
   "cell_type": "code",
   "execution_count": 1,
   "id": "07615eef-6d70-441b-a524-eaed756be8e8",
   "metadata": {},
   "outputs": [],
   "source": [
    "# import the necessary packages\n",
    "import pathlib\n",
    "import argparse\n",
    "import requests\n",
    "import cv2\n",
    "import os\n",
    "import uuid\n",
    "from tqdm.notebook import tqdm"
   ]
  },
  {
   "cell_type": "code",
   "execution_count": 2,
   "id": "ec13e182-f8e4-4db2-9629-0a453f33c1bf",
   "metadata": {},
   "outputs": [],
   "source": [
    "# define shapes to detected\n",
    "shapes = ['circle', 'triangle', 'square', 'rectangle', 'pentagon', 'hexagon']\n",
    "\n",
    "# define filepath\n",
    "IMAGES_PATH = os.path.join(\"..\", \"data\", \"images\", \"collected_images\")"
   ]
  },
  {
   "cell_type": "code",
   "execution_count": 3,
   "id": "b852eec9-1667-44f6-b855-39a0a807cf03",
   "metadata": {},
   "outputs": [],
   "source": [
    "# Create folder structure\n",
    "if not os.path.exists(IMAGES_PATH):\n",
    "    if os.name == 'posix':\n",
    "        !mkdir -p {IMAGES_PATH}\n",
    "    if os.name == 'nt':\n",
    "         !mkdir {IMAGES_PATH}\n",
    "\n",
    "for label in shapes:\n",
    "    path = os.path.join(IMAGES_PATH, label)\n",
    "    if not os.path.exists(path):\n",
    "        !mkdir {path}"
   ]
  },
  {
   "cell_type": "code",
   "execution_count": 4,
   "id": "2ed3d26f-a814-4f3f-9c38-47204d333646",
   "metadata": {},
   "outputs": [],
   "source": [
    "def get_urls(filename: str, directory: str = \"../data/URLs\"):\n",
    "    \"\"\"Get the URLs from the .txt files created using the Javascript code.\n",
    "    \n",
    "    Args:\n",
    "        filename (str): name of the file that contains the URLs, with file extension.\n",
    "        directory (str, optional): directory where the URL file is located.\n",
    "        \n",
    "    Returns:\n",
    "        (list): list of URLs in the file.\n",
    "    \"\"\"\n",
    "    path = pathlib.Path(directory) / filename\n",
    "    \n",
    "\n",
    "    if path.exists():\n",
    "        with path.open('r') as f:\n",
    "            urls = f.read().strip().split('\\n')\n",
    "    else:\n",
    "        raise FileNotFoundError('Please check the file name and directory where the file is located.')\n",
    "        \n",
    "    return urls"
   ]
  },
  {
   "cell_type": "code",
   "execution_count": 5,
   "id": "7ed59cf6-6637-4e5b-a175-a791b5479ece",
   "metadata": {},
   "outputs": [],
   "source": [
    "def download_images(urls: list, label: str, out_dir: str = '../data/images/collected_images', verbose: int = 0):\n",
    "    \"\"\"The function downloads the images from each of the URLs provided in the list.\n",
    "    \n",
    "    Args:\n",
    "        urls (list of str): list of URLs to the images to be downloaded.\n",
    "        label (str): the label for the images downloaded from the URLs.\n",
    "        out_dir (str): output directory where they labelled images will be stored.\n",
    "        \n",
    "        \n",
    "    Returns:\n",
    "        (list): list of paths to the downloaded images.\n",
    "    \n",
    "    \"\"\"\n",
    "    num_of_urls = len(urls)\n",
    "    downloaded_imgs = 0\n",
    "    img_paths = []\n",
    "    \n",
    "    if verbose == 1:\n",
    "        generator = tqdm(urls, desc=f\"Downloading images for {label}...\")\n",
    "    else:\n",
    "        print('[START] Downloading images...')\n",
    "        generator = urls\n",
    "    \n",
    "    for url in generator:\n",
    "        try:\n",
    "            # attempt to download the image\n",
    "            r = requests.get(url, timeout=60)\n",
    "\n",
    "            img_path = pathlib.Path(os.path.join(out_dir, label,\n",
    "                                                 label+'-'+'{}.jpg'.format(str(uuid.uuid1()))))\n",
    "\n",
    "            with img_path.open('wb') as f:\n",
    "                f.write(r.content)\n",
    "            \n",
    "            if verbose == 2:\n",
    "                print(f\"[SUCCESSS] Downloaded: {img_path}\")\n",
    "            img_paths.append(str(img_path))\n",
    "            downloaded_imgs += 1\n",
    "        except:\n",
    "            if verbose == 2:\n",
    "                print(f\"[ERROR] downloading unsuccessful for {img_path}...skipping...\\n\")\n",
    "        \n",
    "    print(f\"[END] Downloading complete.\")\n",
    "    print(f\"[END] URLs provided: {len(urls)}\")\n",
    "    print(f\"[END] Total images downloaded: {downloaded_imgs}\")\n",
    "    \n",
    "    return img_paths"
   ]
  },
  {
   "cell_type": "code",
   "execution_count": 9,
   "id": "250fc5ef-ccc7-4513-8aa8-c07f20ca2f81",
   "metadata": {},
   "outputs": [],
   "source": [
    "def verify_downloads(img_paths: list, verbose: int = 0):\n",
    "    \"\"\"The function verifies if the images in the paths provided are not corrupted. Corrupted images are deleted.\n",
    "    \n",
    "    Args:\n",
    "        img_paths (list): list of paths to the images to be verified.\n",
    "        \n",
    "    Returns:\n",
    "        (list): list of images that were not corrupted.\n",
    "    \n",
    "    \"\"\"\n",
    "    new_img_paths = img_paths.copy()\n",
    "    \n",
    "    if verbose == 1:\n",
    "        generator = tqdm(img_paths, desc=\"Verifying images...\")\n",
    "    else:\n",
    "        print(\"[START] Verifying images...\")\n",
    "        generator = urls\n",
    "    \n",
    "    for path in generator:\n",
    "        delete = False\n",
    "        \n",
    "        try:\n",
    "            image = cv2.imread(path)\n",
    "            \n",
    "            if image is None:\n",
    "                delete = True\n",
    "        except:\n",
    "            print(\"[ERROR]\")\n",
    "            delete = True\n",
    "        \n",
    "        if not pathlib.Path(path).exists():\n",
    "            if verbose == 2:\n",
    "                print(f'[ERROR-2] File not found: {path}')\n",
    "            continue\n",
    "\n",
    "        if delete:\n",
    "            if verbose == 2:\n",
    "                print(f\"[DELETE] Deleting {path}\")\n",
    "            os.remove(path)\n",
    "            new_img_paths.remove(path)\n",
    "\n",
    "    print(f\"[END] Verification complete.\")\n",
    "    print(f\"[END] Images deleted: {len(img_paths) - len(new_img_paths)}\")\n",
    "    print(f\"[END] Images remaining: {len(new_img_paths)}\")\n",
    "\n",
    "    return new_img_paths"
   ]
  },
  {
   "cell_type": "code",
   "execution_count": 7,
   "id": "45233210-b837-4f67-a235-e8dbcae7703e",
   "metadata": {},
   "outputs": [
    {
     "data": {
      "text/plain": [
       "{'circle': ['circle_urls.txt', 'circle_obj_urls.txt'],\n",
       " 'triangle': ['triangle_urls.txt', 'triangle_obj_urls.txt'],\n",
       " 'square': ['square_urls.txt', 'square_obj_urls.txt'],\n",
       " 'rectangle': ['rectangle_urls.txt', 'rectangle_obj_urls.txt'],\n",
       " 'pentagon': ['pentagon_urls.txt', 'pentagon_obj_urls.txt'],\n",
       " 'hexagon': ['hexagon_urls.txt', 'hexagon_obj_urls.txt']}"
      ]
     },
     "execution_count": 7,
     "metadata": {},
     "output_type": "execute_result"
    }
   ],
   "source": [
    "shape = \"circle_obj\"\n",
    "filename = \"circle_obj_urls.txt\"\n",
    "\n",
    "shape_urls = {shape: [f\"{shape}_urls.txt\", f\"{shape}_obj_urls.txt\"] for shape in shapes}\n",
    "shape_urls"
   ]
  },
  {
   "cell_type": "code",
   "execution_count": 8,
   "id": "32aedf29-7c15-4804-bd43-2b70c65a1b34",
   "metadata": {},
   "outputs": [
    {
     "data": {
      "application/vnd.jupyter.widget-view+json": {
       "model_id": "0a1cfd4ffb574782ae4dcd1c52bf6732",
       "version_major": 2,
       "version_minor": 0
      },
      "text/plain": [
       "Downloading images...:   0%|          | 0/299 [00:00<?, ?it/s]"
      ]
     },
     "metadata": {},
     "output_type": "display_data"
    },
    {
     "name": "stdout",
     "output_type": "stream",
     "text": [
      "[END] Downloading complete.\n",
      "[END] URLs provided: 299\n",
      "[END] Total images downloaded: 297\n"
     ]
    },
    {
     "data": {
      "application/vnd.jupyter.widget-view+json": {
       "model_id": "fd9d339cf35f46118d6b14f77801e647",
       "version_major": 2,
       "version_minor": 0
      },
      "text/plain": [
       "Verifying images...:   0%|          | 0/297 [00:00<?, ?it/s]"
      ]
     },
     "metadata": {},
     "output_type": "display_data"
    },
    {
     "name": "stderr",
     "output_type": "stream",
     "text": [
      "libpng warning: iCCP: known incorrect sRGB profile\n",
      "libpng warning: iCCP: known incorrect sRGB profile\n"
     ]
    },
    {
     "name": "stdout",
     "output_type": "stream",
     "text": [
      "[END] Verification complete.\n",
      "[END] Images deleted: 50\n",
      "[END] Images remaining: 247\n"
     ]
    },
    {
     "data": {
      "application/vnd.jupyter.widget-view+json": {
       "model_id": "9d10014a8b5f4a16a7ef62ce8d7d17a3",
       "version_major": 2,
       "version_minor": 0
      },
      "text/plain": [
       "Downloading images...:   0%|          | 0/199 [00:00<?, ?it/s]"
      ]
     },
     "metadata": {},
     "output_type": "display_data"
    },
    {
     "name": "stdout",
     "output_type": "stream",
     "text": [
      "[END] Downloading complete.\n",
      "[END] URLs provided: 199\n",
      "[END] Total images downloaded: 197\n"
     ]
    },
    {
     "data": {
      "application/vnd.jupyter.widget-view+json": {
       "model_id": "b3bb462b5fdd446b9f8b4aea7de6784c",
       "version_major": 2,
       "version_minor": 0
      },
      "text/plain": [
       "Verifying images...:   0%|          | 0/197 [00:00<?, ?it/s]"
      ]
     },
     "metadata": {},
     "output_type": "display_data"
    },
    {
     "name": "stdout",
     "output_type": "stream",
     "text": [
      "[END] Verification complete.\n",
      "[END] Images deleted: 5\n",
      "[END] Images remaining: 192\n"
     ]
    },
    {
     "data": {
      "application/vnd.jupyter.widget-view+json": {
       "model_id": "b9ca1d61a3e44e028bd54dc7d776c8ac",
       "version_major": 2,
       "version_minor": 0
      },
      "text/plain": [
       "Downloading images...:   0%|          | 0/299 [00:00<?, ?it/s]"
      ]
     },
     "metadata": {},
     "output_type": "display_data"
    },
    {
     "name": "stdout",
     "output_type": "stream",
     "text": [
      "[END] Downloading complete.\n",
      "[END] URLs provided: 299\n",
      "[END] Total images downloaded: 293\n"
     ]
    },
    {
     "data": {
      "application/vnd.jupyter.widget-view+json": {
       "model_id": "c09a2d09e0684d478f8c46d386cd7709",
       "version_major": 2,
       "version_minor": 0
      },
      "text/plain": [
       "Verifying images...:   0%|          | 0/293 [00:00<?, ?it/s]"
      ]
     },
     "metadata": {},
     "output_type": "display_data"
    },
    {
     "name": "stderr",
     "output_type": "stream",
     "text": [
      "libpng warning: iCCP: known incorrect sRGB profile\n"
     ]
    },
    {
     "name": "stdout",
     "output_type": "stream",
     "text": [
      "[END] Verification complete.\n",
      "[END] Images deleted: 59\n",
      "[END] Images remaining: 234\n"
     ]
    },
    {
     "data": {
      "application/vnd.jupyter.widget-view+json": {
       "model_id": "e53fab5203794c0ba9ae1ed841f18e5a",
       "version_major": 2,
       "version_minor": 0
      },
      "text/plain": [
       "Downloading images...:   0%|          | 0/299 [00:00<?, ?it/s]"
      ]
     },
     "metadata": {},
     "output_type": "display_data"
    },
    {
     "name": "stdout",
     "output_type": "stream",
     "text": [
      "[END] Downloading complete.\n",
      "[END] URLs provided: 299\n",
      "[END] Total images downloaded: 294\n"
     ]
    },
    {
     "data": {
      "application/vnd.jupyter.widget-view+json": {
       "model_id": "00a3f644226646f1bc88be0f3b646efe",
       "version_major": 2,
       "version_minor": 0
      },
      "text/plain": [
       "Verifying images...:   0%|          | 0/294 [00:00<?, ?it/s]"
      ]
     },
     "metadata": {},
     "output_type": "display_data"
    },
    {
     "name": "stdout",
     "output_type": "stream",
     "text": [
      "[END] Verification complete.\n",
      "[END] Images deleted: 14\n",
      "[END] Images remaining: 280\n"
     ]
    },
    {
     "data": {
      "application/vnd.jupyter.widget-view+json": {
       "model_id": "03b8335994f44592aed0ecb1c23c4fd7",
       "version_major": 2,
       "version_minor": 0
      },
      "text/plain": [
       "Downloading images...:   0%|          | 0/299 [00:00<?, ?it/s]"
      ]
     },
     "metadata": {},
     "output_type": "display_data"
    },
    {
     "name": "stdout",
     "output_type": "stream",
     "text": [
      "[END] Downloading complete.\n",
      "[END] URLs provided: 299\n",
      "[END] Total images downloaded: 295\n"
     ]
    },
    {
     "data": {
      "application/vnd.jupyter.widget-view+json": {
       "model_id": "d4b656bf0af54e31a8897418c0ac69a1",
       "version_major": 2,
       "version_minor": 0
      },
      "text/plain": [
       "Verifying images...:   0%|          | 0/295 [00:00<?, ?it/s]"
      ]
     },
     "metadata": {},
     "output_type": "display_data"
    },
    {
     "name": "stderr",
     "output_type": "stream",
     "text": [
      "libpng warning: iCCP: known incorrect sRGB profile\n",
      "libpng warning: iCCP: known incorrect sRGB profile\n",
      "libpng warning: iCCP: known incorrect sRGB profile\n"
     ]
    },
    {
     "name": "stdout",
     "output_type": "stream",
     "text": [
      "[END] Verification complete.\n",
      "[END] Images deleted: 26\n",
      "[END] Images remaining: 269\n"
     ]
    },
    {
     "data": {
      "application/vnd.jupyter.widget-view+json": {
       "model_id": "cc027a6ddd7c4f43956e9aabb42ebf9b",
       "version_major": 2,
       "version_minor": 0
      },
      "text/plain": [
       "Downloading images...:   0%|          | 0/199 [00:00<?, ?it/s]"
      ]
     },
     "metadata": {},
     "output_type": "display_data"
    },
    {
     "name": "stdout",
     "output_type": "stream",
     "text": [
      "[END] Downloading complete.\n",
      "[END] URLs provided: 199\n",
      "[END] Total images downloaded: 193\n"
     ]
    },
    {
     "data": {
      "application/vnd.jupyter.widget-view+json": {
       "model_id": "14b0dccd5de542068cf0bc4ad8cbf1d6",
       "version_major": 2,
       "version_minor": 0
      },
      "text/plain": [
       "Verifying images...:   0%|          | 0/193 [00:00<?, ?it/s]"
      ]
     },
     "metadata": {},
     "output_type": "display_data"
    },
    {
     "name": "stdout",
     "output_type": "stream",
     "text": [
      "[END] Verification complete.\n",
      "[END] Images deleted: 14\n",
      "[END] Images remaining: 179\n"
     ]
    },
    {
     "data": {
      "application/vnd.jupyter.widget-view+json": {
       "model_id": "95bc17bbfbce4d61baa91872177b58a9",
       "version_major": 2,
       "version_minor": 0
      },
      "text/plain": [
       "Downloading images...:   0%|          | 0/199 [00:00<?, ?it/s]"
      ]
     },
     "metadata": {},
     "output_type": "display_data"
    },
    {
     "name": "stdout",
     "output_type": "stream",
     "text": [
      "[END] Downloading complete.\n",
      "[END] URLs provided: 199\n",
      "[END] Total images downloaded: 198\n"
     ]
    },
    {
     "data": {
      "application/vnd.jupyter.widget-view+json": {
       "model_id": "bb5814479ad1403ca110122c80ba14b6",
       "version_major": 2,
       "version_minor": 0
      },
      "text/plain": [
       "Verifying images...:   0%|          | 0/198 [00:00<?, ?it/s]"
      ]
     },
     "metadata": {},
     "output_type": "display_data"
    },
    {
     "name": "stderr",
     "output_type": "stream",
     "text": [
      "libpng warning: iCCP: profile 'icc': 'RGB ': RGB color space not permitted on grayscale PNG\n"
     ]
    },
    {
     "name": "stdout",
     "output_type": "stream",
     "text": [
      "[END] Verification complete.\n",
      "[END] Images deleted: 19\n",
      "[END] Images remaining: 179\n"
     ]
    },
    {
     "data": {
      "application/vnd.jupyter.widget-view+json": {
       "model_id": "6fe5997bcb964685852757e3f46ed54e",
       "version_major": 2,
       "version_minor": 0
      },
      "text/plain": [
       "Downloading images...:   0%|          | 0/199 [00:00<?, ?it/s]"
      ]
     },
     "metadata": {},
     "output_type": "display_data"
    },
    {
     "name": "stdout",
     "output_type": "stream",
     "text": [
      "[END] Downloading complete.\n",
      "[END] URLs provided: 199\n",
      "[END] Total images downloaded: 194\n"
     ]
    },
    {
     "data": {
      "application/vnd.jupyter.widget-view+json": {
       "model_id": "8b5f4a0d225448b698c94044fbcc8f4f",
       "version_major": 2,
       "version_minor": 0
      },
      "text/plain": [
       "Verifying images...:   0%|          | 0/194 [00:00<?, ?it/s]"
      ]
     },
     "metadata": {},
     "output_type": "display_data"
    },
    {
     "name": "stdout",
     "output_type": "stream",
     "text": [
      "[END] Verification complete.\n",
      "[END] Images deleted: 8\n",
      "[END] Images remaining: 186\n"
     ]
    },
    {
     "data": {
      "application/vnd.jupyter.widget-view+json": {
       "model_id": "12a09e3c5f4348678711f83f1ad654fa",
       "version_major": 2,
       "version_minor": 0
      },
      "text/plain": [
       "Downloading images...:   0%|          | 0/299 [00:00<?, ?it/s]"
      ]
     },
     "metadata": {},
     "output_type": "display_data"
    },
    {
     "name": "stdout",
     "output_type": "stream",
     "text": [
      "[END] Downloading complete.\n",
      "[END] URLs provided: 299\n",
      "[END] Total images downloaded: 299\n"
     ]
    },
    {
     "data": {
      "application/vnd.jupyter.widget-view+json": {
       "model_id": "2e11f13e675e437289bc557a2f90d310",
       "version_major": 2,
       "version_minor": 0
      },
      "text/plain": [
       "Verifying images...:   0%|          | 0/299 [00:00<?, ?it/s]"
      ]
     },
     "metadata": {},
     "output_type": "display_data"
    },
    {
     "name": "stderr",
     "output_type": "stream",
     "text": [
      "libpng warning: iCCP: known incorrect sRGB profile\n"
     ]
    },
    {
     "name": "stdout",
     "output_type": "stream",
     "text": [
      "[END] Verification complete.\n",
      "[END] Images deleted: 17\n",
      "[END] Images remaining: 282\n"
     ]
    },
    {
     "data": {
      "application/vnd.jupyter.widget-view+json": {
       "model_id": "9d71ee535e6d4de78380b11dfba2329d",
       "version_major": 2,
       "version_minor": 0
      },
      "text/plain": [
       "Downloading images...:   0%|          | 0/199 [00:00<?, ?it/s]"
      ]
     },
     "metadata": {},
     "output_type": "display_data"
    },
    {
     "name": "stdout",
     "output_type": "stream",
     "text": [
      "[END] Downloading complete.\n",
      "[END] URLs provided: 199\n",
      "[END] Total images downloaded: 199\n"
     ]
    },
    {
     "data": {
      "application/vnd.jupyter.widget-view+json": {
       "model_id": "76f379679da94ac28ab726a3e7a15636",
       "version_major": 2,
       "version_minor": 0
      },
      "text/plain": [
       "Verifying images...:   0%|          | 0/199 [00:00<?, ?it/s]"
      ]
     },
     "metadata": {},
     "output_type": "display_data"
    },
    {
     "name": "stdout",
     "output_type": "stream",
     "text": [
      "[END] Verification complete.\n",
      "[END] Images deleted: 22\n",
      "[END] Images remaining: 177\n"
     ]
    },
    {
     "data": {
      "application/vnd.jupyter.widget-view+json": {
       "model_id": "0b92f7fc14734f0d8f71dfd214f49082",
       "version_major": 2,
       "version_minor": 0
      },
      "text/plain": [
       "Downloading images...:   0%|          | 0/299 [00:00<?, ?it/s]"
      ]
     },
     "metadata": {},
     "output_type": "display_data"
    },
    {
     "name": "stdout",
     "output_type": "stream",
     "text": [
      "[END] Downloading complete.\n",
      "[END] URLs provided: 299\n",
      "[END] Total images downloaded: 298\n"
     ]
    },
    {
     "data": {
      "application/vnd.jupyter.widget-view+json": {
       "model_id": "18a58d3815a8484e913e4b61db8d8528",
       "version_major": 2,
       "version_minor": 0
      },
      "text/plain": [
       "Verifying images...:   0%|          | 0/298 [00:00<?, ?it/s]"
      ]
     },
     "metadata": {},
     "output_type": "display_data"
    },
    {
     "name": "stdout",
     "output_type": "stream",
     "text": [
      "[END] Verification complete.\n",
      "[END] Images deleted: 16\n",
      "[END] Images remaining: 282\n"
     ]
    },
    {
     "data": {
      "application/vnd.jupyter.widget-view+json": {
       "model_id": "68ae1760c6b14b49bbab1e4419d60f1e",
       "version_major": 2,
       "version_minor": 0
      },
      "text/plain": [
       "Downloading images...:   0%|          | 0/54 [00:00<?, ?it/s]"
      ]
     },
     "metadata": {},
     "output_type": "display_data"
    },
    {
     "name": "stdout",
     "output_type": "stream",
     "text": [
      "[END] Downloading complete.\n",
      "[END] URLs provided: 54\n",
      "[END] Total images downloaded: 54\n"
     ]
    },
    {
     "data": {
      "application/vnd.jupyter.widget-view+json": {
       "model_id": "7df53eaa9268430c87020355bc744af4",
       "version_major": 2,
       "version_minor": 0
      },
      "text/plain": [
       "Verifying images...:   0%|          | 0/54 [00:00<?, ?it/s]"
      ]
     },
     "metadata": {},
     "output_type": "display_data"
    },
    {
     "name": "stderr",
     "output_type": "stream",
     "text": [
      "libpng warning: iCCP: known incorrect sRGB profile\n"
     ]
    },
    {
     "name": "stdout",
     "output_type": "stream",
     "text": [
      "[END] Verification complete.\n",
      "[END] Images deleted: 3\n",
      "[END] Images remaining: 51\n"
     ]
    }
   ],
   "source": [
    "run = True\n",
    "\n",
    "if run:\n",
    "    for shape, files in shape_urls.items():\n",
    "        for filename in files:\n",
    "            urls = get_urls(filename)\n",
    "            \n",
    "            img_paths = download_images(urls, shape, verbose=1)\n",
    "            img_paths = verify_downloads(img_paths, verbose=1)\n",
    "            len(img_paths)"
   ]
  },
  {
   "cell_type": "code",
   "execution_count": null,
   "id": "74a1e9ea-573e-40a2-8770-9d33cbb68d19",
   "metadata": {},
   "outputs": [],
   "source": []
  }
 ],
 "metadata": {
  "kernelspec": {
   "display_name": "dsenv",
   "language": "python",
   "name": "dsenv"
  },
  "language_info": {
   "codemirror_mode": {
    "name": "ipython",
    "version": 3
   },
   "file_extension": ".py",
   "mimetype": "text/x-python",
   "name": "python",
   "nbconvert_exporter": "python",
   "pygments_lexer": "ipython3",
   "version": "3.9.10"
  }
 },
 "nbformat": 4,
 "nbformat_minor": 5
}
